{
  "cells": [
    {
      "cell_type": "markdown",
      "metadata": {
        "colab_type": "text",
        "id": "view-in-github"
      },
      "source": [
        "<a href=\"https://colab.research.google.com/github/MattLMerritt/protocol-protocol/blob/Framework/protocol_simulation_framework.ipynb\" target=\"_parent\"><img src=\"https://colab.research.google.com/assets/colab-badge.svg\" alt=\"Open In Colab\"/></a>"
      ]
    },
    {
      "cell_type": "code",
      "execution_count": null,
      "metadata": {
        "id": "oUZuHCcXKZxp"
      },
      "outputs": [],
      "source": [
        "from enum import Enum\n",
        "from collections import deque\n",
        "from heapq import heapify, heappush, heappop"
      ]
    },
    {
      "cell_type": "code",
      "execution_count": null,
      "metadata": {
        "colab": {
          "base_uri": "https://localhost:8080/"
        },
        "id": "yeNRtyu5ScxZ",
        "outputId": "9c306aa4-c939-481a-c1ca-165718e1a677"
      },
      "outputs": [
        {
          "name": "stdout",
          "output_type": "stream",
          "text": [
            "device 1 sent  ['hello']  to 2\n",
            "2 recieved ['hello']\n"
          ]
        }
      ],
      "source": [
        "# define classes\n",
        "\n",
        "# create global time\n",
        "global_time = 0\n",
        "\n",
        "class EventType(Enum):\n",
        "    SEND = 1\n",
        "    TBD = 2\n",
        "\n",
        "class Event():\n",
        "\n",
        "  def __init__(self, event_type, source, dest, content, timestamp):\n",
        "    # notes: dest must be a device reference\n",
        "    self.event = event_type\n",
        "    self.source = source\n",
        "    self.dest = dest\n",
        "    self.content = content\n",
        "    self.timestamp = timestamp\n",
        "\n",
        "  # allows for sorting by global queue\n",
        "  def __lt__(self, nxt):\n",
        "        return self.timestamp < nxt.timestamp\n",
        "\n",
        "class GlobalQueue():\n",
        "  def __init__(self):\n",
        "    self.global_queue = []\n",
        "    heapify(self.global_queue)\n",
        "  \n",
        "  def addEvent(self, event):\n",
        "    self.global_queue.append(event)\n",
        "    heapify(self.global_queue)\n",
        "\n",
        "  def processNext(self):\n",
        "        event = heappop(self.global_queue)\n",
        "\n",
        "        # have reciving device process event\n",
        "        print(\"device \" + str(event.source) + \" sent \", event.content, \" to \" + str(event.dest.id))\n",
        "        event.dest.recieve(event.content)\n",
        "        \n",
        "\n",
        "#device class\n",
        "class Device():\n",
        "  \n",
        "  def __init__(self, id):\n",
        "    self.id = id\n",
        "    self.toSendBuffer = []\n",
        "    self.recievedBuffer  = []\n",
        "\n",
        "  def send(self, content, dest, world):\n",
        "\n",
        "    event = Event(EventType.SEND, self.id, dest, content, global_time)\n",
        "    world.addEvent(event)\n",
        "\n",
        "  def recieve(self, content):\n",
        "    self.recievedBuffer.append(content)\n",
        "    print(str(self.id) + \" recieved\", content)\n",
        "\n",
        "global_queue = GlobalQueue()\n",
        "d1 = Device(1)\n",
        "d2 = Device(2)\n",
        "d1.send([\"hello\"], d2, global_queue)\n",
        "global_queue.processNext()"
      ]
    }
  ],
  "metadata": {
    "colab": {
      "authorship_tag": "ABX9TyOrCZcwZ2gZ6tcZkK0JrhSo",
      "include_colab_link": true,
      "provenance": []
    },
    "kernelspec": {
      "display_name": "Python 3",
      "language": "python",
      "name": "python3"
    },
    "language_info": {
      "name": "python",
      "version": "3.10.2"
    },
    "vscode": {
      "interpreter": {
        "hash": "c4d2ee349f455ceefc5791407e6b64447dbc6216d55bff56c8bf6ed3d9129b30"
      }
    }
  },
  "nbformat": 4,
  "nbformat_minor": 0
}
