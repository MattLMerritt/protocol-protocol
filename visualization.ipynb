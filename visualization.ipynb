{
  "nbformat": 4,
  "nbformat_minor": 0,
  "metadata": {
    "colab": {
      "provenance": [],
      "mount_file_id": "1CPDY1StRrByD8W33w47T-gHok_GhJ74v",
      "authorship_tag": "ABX9TyPhzPrJRCGLvCo3H52Oy07h",
      "include_colab_link": true
    },
    "kernelspec": {
      "name": "python3",
      "display_name": "Python 3"
    },
    "language_info": {
      "name": "python"
    }
  },
  "cells": [
    {
      "cell_type": "markdown",
      "metadata": {
        "id": "view-in-github",
        "colab_type": "text"
      },
      "source": [
        "<a href=\"https://colab.research.google.com/github/MattLMerritt/protocol-protocol/blob/stateful_framework/visualization.ipynb\" target=\"_parent\"><img src=\"https://colab.research.google.com/assets/colab-badge.svg\" alt=\"Open In Colab\"/></a>"
      ]
    },
    {
      "cell_type": "code",
      "execution_count": null,
      "metadata": {
        "id": "19FdcFYQSi83"
      },
      "outputs": [],
      "source": [
        "! pip install networkx\n",
        "# ! pip install matplotlib\n",
        "! pip install pyvis"
      ]
    },
    {
      "cell_type": "markdown",
      "source": [
        "How to to use:\n",
        "\n",
        "upload steps_format file. This file contains information on the amount of steps to visualize, the amount of devices, and the amount of wires. In this current version devices and wires are only refered to as their ID which starts from 0 and increments up. The structure of how the wires are connected to the devices needs to be hardcoded at the moment.\n",
        "\n",
        "```\n",
        "STEP EVENT FORMAT\n",
        "{\n",
        "    \"steps\": 10,\n",
        "    \"devices\": 2,\n",
        "    \"wires\": 1,\n",
        "    \"step-0\": {\n",
        "        \"d-1\": \"IDLE\",\n",
        "        \"d-2\": \"IDLE\",\n",
        "        \"w-1\": \"EMPTY\"\n",
        "    },\n",
        "    more steps...\n",
        "}\n",
        "```"
      ],
      "metadata": {
        "id": "Ja-hlRo5dtcJ"
      }
    },
    {
      "cell_type": "code",
      "source": [
        "# part 1: parse step input file\n",
        "import json\n",
        "step_file_dict = json.load(open(\"test.json\"))\n",
        "\n",
        "simulation_steps = step_file_dict[\"steps\"]\n",
        "amount_of_devices = step_file_dict[\"devices\"]\n",
        "amount_of_wires = step_file_dict[\"wires\"]\n",
        "\n",
        "for step_index in range(simulation_steps):\n",
        "  print(\"\\nstep: \" + str(step_index))\n",
        "  step = step_file_dict[\"step-\" + str(step_index)]\n",
        "  \n",
        "  # loop through each device's state in this step\n",
        "  for device_index in range(amount_of_devices):\n",
        "    device_state = step[\"d-\" + str(device_index)]\n",
        "    print(\"device-\" + str(device_index) + \" state: \" + device_state)\n",
        "\n",
        "  # loop through each wire's state in this step\n",
        "  for wire_index in range(amount_of_wires):\n",
        "    wire_state = step[\"w-\" + str(wire_index)]\n",
        "    print(\"wire-\" + str(wire_index) + \" state: \" + wire_state)"
      ],
      "metadata": {
        "colab": {
          "base_uri": "https://localhost:8080/"
        },
        "id": "gcoYoITzNBwC",
        "outputId": "91873155-c9f4-4cd5-cb09-b949855a0249"
      },
      "execution_count": 10,
      "outputs": [
        {
          "output_type": "stream",
          "name": "stdout",
          "text": [
            "\n",
            "step: 0\n",
            "device-0 state: IDLE\n",
            "device-1 state: IDLE\n",
            "wire-0 state: EMPTY\n",
            "\n",
            "step: 1\n",
            "device-0 state: IDLE\n",
            "device-1 state: IDLE\n",
            "wire-0 state: EMPTY\n",
            "\n",
            "step: 2\n",
            "device-0 state: SENDING\n",
            "device-1 state: IDLE\n",
            "wire-0 state: IN_USE\n",
            "\n",
            "step: 3\n",
            "device-0 state: IDLE\n",
            "device-1 state: IDLE\n",
            "wire-0 state: IN_USE\n",
            "\n",
            "step: 4\n",
            "device-0 state: IDLE\n",
            "device-1 state: RECEIVING\n",
            "wire-0 state: IN_USE\n",
            "\n",
            "step: 5\n",
            "device-0 state: IDLE\n",
            "device-1 state: IDLE\n",
            "wire-0 state: EMPTY\n",
            "\n",
            "step: 6\n",
            "device-0 state: IDLE\n",
            "device-1 state: IDLE\n",
            "wire-0 state: EMPTY\n",
            "\n",
            "step: 7\n",
            "device-0 state: IDLE\n",
            "device-1 state: IDLE\n",
            "wire-0 state: EMPTY\n",
            "\n",
            "step: 8\n",
            "device-0 state: IDLE\n",
            "device-1 state: IDLE\n",
            "wire-0 state: EMPTY\n",
            "\n",
            "step: 9\n",
            "device-0 state: IDLE\n",
            "device-1 state: IDLE\n",
            "wire-0 state: EMPTY\n"
          ]
        }
      ]
    }
  ]
}